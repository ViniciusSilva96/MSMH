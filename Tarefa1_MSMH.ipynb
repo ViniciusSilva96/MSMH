{
  "nbformat": 4,
  "nbformat_minor": 0,
  "metadata": {
    "colab": {
      "name": "Tarefa1-MSMH.ipynb",
      "provenance": [],
      "collapsed_sections": [],
      "authorship_tag": "ABX9TyMRg3hRb50R6yt3Ud9iSDYA",
      "include_colab_link": true
    },
    "kernelspec": {
      "name": "python3",
      "display_name": "Python 3"
    },
    "language_info": {
      "name": "python"
    }
  },
  "cells": [
    {
      "cell_type": "markdown",
      "metadata": {
        "id": "view-in-github",
        "colab_type": "text"
      },
      "source": [
        "<a href=\"https://colab.research.google.com/github/ViniciusSilva96/MSMH/blob/main/Tarefa1_MSMH.ipynb\" target=\"_parent\"><img src=\"https://colab.research.google.com/assets/colab-badge.svg\" alt=\"Open In Colab\"/></a>"
      ]
    },
    {
      "cell_type": "markdown",
      "source": [
        "## Tarefa 1 - Modelagem e Simulação do Movimento Humano\n",
        "### Vinícius de Paula Silva\n",
        "### RA: 11015014\n"
      ],
      "metadata": {
        "id": "A7HJSWai8QUF"
      }
    },
    {
      "cell_type": "markdown",
      "source": [
        "Fazer um notebook do Jupyter ou Colab que contenha um código em Python para fazer um gráfico da trajetória de uma bola lançada a partir do chão a uma velocidade de 10 m/s com um ângulo de 30 graus com o solo.. Despreze o atrito do ar."
      ],
      "metadata": {
        "id": "RnzBL2Yw8kgr"
      }
    },
    {
      "cell_type": "code",
      "execution_count": 1,
      "metadata": {
        "id": "9gsl3tLE8LaT"
      },
      "outputs": [],
      "source": [
        "import numpy as np\n",
        "import matplotlib.pyplot as plt\n",
        "%matplotlib inline "
      ]
    },
    {
      "cell_type": "code",
      "source": [
        "# Dados do lançamento\n",
        "Vi = 10 # Velocidade inicial em m/s\n",
        "Theta = 30 # Ângulo de lançamento em graus\n",
        "T_rad = Theta * np.pi/180 # Ângulo de lançamento em radianos\n",
        "g = 9.8 # Gravidade em m/s^2 \n",
        "t_max = 2*Vi*np.sin(T_rad)/g # Tempo de voo\n",
        "\n",
        "# Tempo do sistema\n",
        "t = np.linspace(0, t_max, 100)\n",
        "\n",
        "# Para o eixo x\n",
        "## Velocidade inicial\n",
        "Vx = Vi * np.cos(T_rad)\n",
        "## Posição \n",
        "Px = Vx*t\n",
        "\n",
        "# Para o eixo y\n",
        "## Velocidade inicial\n",
        "Vy = Vi * np.sin(T_rad)\n",
        "## Posição\n",
        "Py = np.add(Vy*t, -g/2*np.square(t))"
      ],
      "metadata": {
        "id": "CBs9PAqs9LFo"
      },
      "execution_count": 2,
      "outputs": []
    },
    {
      "cell_type": "code",
      "source": [
        "plt.Figure(figsize=(12,8))\n",
        "plt.plot(Px, Py, label = 'Posição', linewidth = 2, color = 'red')\n",
        "plt.xlabel('Horizontal [m]', fontsize=12)\n",
        "plt.ylabel('Vertical [m]', fontsize=12)\n",
        "plt.title('Posição da bola', fontsize=12)\n",
        "plt.show()"
      ],
      "metadata": {
        "colab": {
          "base_uri": "https://localhost:8080/",
          "height": 298
        },
        "id": "y5FFqsYkBTSV",
        "outputId": "01c718d6-ed23-4e35-8856-15dea3b22f74"
      },
      "execution_count": 3,
      "outputs": [
        {
          "output_type": "display_data",
          "data": {
            "text/plain": [
              "<Figure size 432x288 with 1 Axes>"
            ],
            "image/png": "[encoded data removed]"
          },
          "metadata": {
            "needs_background": "light"
          }
        }
      ]
    }
  ]
}